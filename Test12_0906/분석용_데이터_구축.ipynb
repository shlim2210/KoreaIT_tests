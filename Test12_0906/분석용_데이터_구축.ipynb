{
 "cells": [
  {
   "cell_type": "code",
   "execution_count": 146,
   "metadata": {},
   "outputs": [],
   "source": [
    "import time # 로딩시간동안 대기하기 위해 time 모듈 사용\n",
    "import pandas as pd # 데이터프레임 사용을 위해 pandas 모듈 사용\n",
    "import requests # 서버에 접속해서 html 문서를 가져오는 역할(요청 -> 응답)\n",
    "from bs4 import BeautifulSoup # html 문서를 해석하는 역할(파싱)\n",
    "from selenium import webdriver # 크롤링에 사용하는 selenium\n",
    "from selenium.webdriver.common.keys import Keys \n",
    "import openpyxl # excel 저장을 위해 openpyxl 모듈 사용"
   ]
  },
  {
   "cell_type": "markdown",
   "metadata": {},
   "source": [
    "# 1. YES24"
   ]
  },
  {
   "cell_type": "code",
   "execution_count": 125,
   "metadata": {},
   "outputs": [
    {
     "name": "stdout",
     "output_type": "stream",
     "text": [
      "<Response [200]>\n"
     ]
    }
   ],
   "source": [
    "# 1. 예스24 크롤링\n",
    "yes24 = 'http://www.yes24.com/Main/default.aspx'\n",
    "request = requests.get(yes24) \n",
    "print(request) # <Response [200]> 정상적인 접속"
   ]
  },
  {
   "cell_type": "code",
   "execution_count": 155,
   "metadata": {},
   "outputs": [
    {
     "name": "stderr",
     "output_type": "stream",
     "text": [
      "c:\\Users\\user\\AppData\\Local\\Programs\\Python\\Python37\\lib\\site-packages\\ipykernel_launcher.py:2: DeprecationWarning: executable_path has been deprecated, please pass in a Service object\n",
      "  \n"
     ]
    }
   ],
   "source": [
    "# chromedriver로 페이지 열기\n",
    "driver = webdriver.Chrome('D:/tests/chromedriver.exe') \n",
    "driver.get(yes24)\n",
    "time.sleep(0.5)"
   ]
  },
  {
   "cell_type": "code",
   "execution_count": 156,
   "metadata": {},
   "outputs": [],
   "source": [
    "# 검색창에 파이썬 입력\n",
    "search = driver.find_element('id', 'query')\n",
    "search.send_keys('파이썬')\n",
    "search.send_keys(Keys.RETURN)\n",
    "time.sleep(0.5)"
   ]
  },
  {
   "cell_type": "code",
   "execution_count": 157,
   "metadata": {},
   "outputs": [
    {
     "name": "stdout",
     "output_type": "stream",
     "text": [
      "page :  1\n",
      "24 24 24 24\n",
      "page :  2\n",
      "24 24 24 24\n",
      "page :  3\n",
      "24 24 24 24\n",
      "page :  4\n",
      "24 24 24 24\n",
      "page :  5\n",
      "24 24 24 24\n"
     ]
    }
   ],
   "source": [
    "# 책 정보 크롤링\n",
    "total_yes24 = []\n",
    "next = True\n",
    "page = 1\n",
    "index = 0\n",
    "while next :\n",
    "# http://www.yes24.com/Product/Search?domain=ALL&query=%ED%8C%8C%EC%9D%B4%EC%8D%AC&page=1 ~ 5\n",
    "\n",
    "    # 2 ~ 5페이지로 이동시키고, 5페이지일 경우 멈추도록\n",
    "    if page == 5 : \n",
    "        next = False\n",
    "    if 2 <= page <= 5 :\n",
    "        url = 'http://www.yes24.com/Product/Search?domain=ALL&query=%ED%8C%8C%EC%9D%B4%EC%8D%AC&page={}'.format(page)\n",
    "        driver.get(url)\n",
    "        driver.implicitly_wait(10)\n",
    "        time.sleep(0.2)\n",
    "    print(\"page : \", page)\n",
    "\n",
    "    # bs4로 문서 정보를 가져옴\n",
    "    html = driver.page_source\n",
    "    soup = BeautifulSoup(html)\n",
    "\n",
    "    # 페이지 도서 리스트\n",
    "    book_list = soup.find('ul', {'id' : 'yesSchList'})\n",
    "    # 책 제목 태그 리스트\n",
    "    book_name = book_list.select('.itemUnit > .item_info > .info_name > a.gd_name')\n",
    "    # 가격 태그 리스트\n",
    "    book_price = book_list.select('.itemUnit > .item_info > .info_price > strong.txt_num > em.yes_b')\n",
    "    # 출판사 태그 리스트\n",
    "    book_publish = book_list.select(\".itemUnit > .item_info > .info_pubGrp > .authPub.info_pub\")\n",
    "    # 출판일자 태그 리스트\n",
    "    book_date = book_list.select(\".itemUnit > .item_info > .info_pubGrp > .authPub.info_date\")\n",
    "\n",
    "    print(len(book_name), len(book_price), len(book_publish), len(book_date))\n",
    "    # book_name list의 갯수만큼 반복문을 돌려 2차원 리스트의 형태로 저장\n",
    "    for i in range(len(book_name)) :\n",
    "        # 책 제목과 가격이 빈 값이 아닐 경우\n",
    "        if book_name[i].text.strip() and book_price[i].text.strip() :\n",
    "            # 책제목, 가격, 출판사, 출판일자를 각각 저장\n",
    "            books = [book_name[i].text.strip(), book_price[i].text.strip(), book_publish[i].text.strip(), book_date[i].text.strip()]\n",
    "            total_yes24.append(books)\n",
    "            index += 1\n",
    "    page += 1\n",
    "    time.sleep(0.2)"
   ]
  },
  {
   "cell_type": "code",
   "execution_count": 158,
   "metadata": {},
   "outputs": [],
   "source": [
    "# 이차원리스트를 데이터프레임으로 변환 및 컬럼 지정\n",
    "total_yes24_columns = ['책제목', '가격', '출판사', '출판일자']\n",
    "total_yes24 = pd.DataFrame(total_yes24)\n",
    "total_yes24.columns = total_yes24_columns"
   ]
  },
  {
   "cell_type": "code",
   "execution_count": 159,
   "metadata": {},
   "outputs": [
    {
     "data": {
      "text/html": [
       "<div>\n",
       "<style scoped>\n",
       "    .dataframe tbody tr th:only-of-type {\n",
       "        vertical-align: middle;\n",
       "    }\n",
       "\n",
       "    .dataframe tbody tr th {\n",
       "        vertical-align: top;\n",
       "    }\n",
       "\n",
       "    .dataframe thead th {\n",
       "        text-align: right;\n",
       "    }\n",
       "</style>\n",
       "<table border=\"1\" class=\"dataframe\">\n",
       "  <thead>\n",
       "    <tr style=\"text-align: right;\">\n",
       "      <th></th>\n",
       "      <th>책제목</th>\n",
       "      <th>가격</th>\n",
       "      <th>출판사</th>\n",
       "      <th>출판일자</th>\n",
       "    </tr>\n",
       "  </thead>\n",
       "  <tbody>\n",
       "    <tr>\n",
       "      <th>0</th>\n",
       "      <td>Do it! 점프 투 파이썬</td>\n",
       "      <td>16,920</td>\n",
       "      <td>이지스퍼블리싱</td>\n",
       "      <td>2019년 06월</td>\n",
       "    </tr>\n",
       "    <tr>\n",
       "      <th>1</th>\n",
       "      <td>혼자 공부하는 파이썬</td>\n",
       "      <td>19,800</td>\n",
       "      <td>한빛미디어</td>\n",
       "      <td>2022년 06월</td>\n",
       "    </tr>\n",
       "    <tr>\n",
       "      <th>2</th>\n",
       "      <td>만들면서 배우는 파이썬과 40개의 작품들</td>\n",
       "      <td>16,920</td>\n",
       "      <td>앤써북</td>\n",
       "      <td>2022년 02월</td>\n",
       "    </tr>\n",
       "    <tr>\n",
       "      <th>3</th>\n",
       "      <td>혼자 공부하는 머신러닝+딥러닝</td>\n",
       "      <td>23,400</td>\n",
       "      <td>한빛미디어</td>\n",
       "      <td>2020년 12월</td>\n",
       "    </tr>\n",
       "    <tr>\n",
       "      <th>4</th>\n",
       "      <td>파이썬 for Beginner</td>\n",
       "      <td>24,250</td>\n",
       "      <td>한빛아카데미</td>\n",
       "      <td>2022년 01월</td>\n",
       "    </tr>\n",
       "    <tr>\n",
       "      <th>...</th>\n",
       "      <td>...</td>\n",
       "      <td>...</td>\n",
       "      <td>...</td>\n",
       "      <td>...</td>\n",
       "    </tr>\n",
       "    <tr>\n",
       "      <th>115</th>\n",
       "      <td>데이터 분석을 위한 파이썬 철저 입문</td>\n",
       "      <td>25,200</td>\n",
       "      <td>위키북스</td>\n",
       "      <td>2019년 04월</td>\n",
       "    </tr>\n",
       "    <tr>\n",
       "      <th>116</th>\n",
       "      <td>파이썬으로 만드는 OpenCV 프로젝트</td>\n",
       "      <td>32,400</td>\n",
       "      <td>인사이트(insight)</td>\n",
       "      <td>2019년 03월</td>\n",
       "    </tr>\n",
       "    <tr>\n",
       "      <th>117</th>\n",
       "      <td>파이썬 데이터 분석</td>\n",
       "      <td>28,000</td>\n",
       "      <td>생능출판사</td>\n",
       "      <td>2022년 02월</td>\n",
       "    </tr>\n",
       "    <tr>\n",
       "      <th>118</th>\n",
       "      <td>COS Pro 2급 파이썬 시험 대비서(교재+모의고사)</td>\n",
       "      <td>16,200</td>\n",
       "      <td>길벗</td>\n",
       "      <td>2018년 02월</td>\n",
       "    </tr>\n",
       "    <tr>\n",
       "      <th>119</th>\n",
       "      <td>코딩 강화 파이썬</td>\n",
       "      <td>17,820</td>\n",
       "      <td>제이펍</td>\n",
       "      <td>2019년 06월</td>\n",
       "    </tr>\n",
       "  </tbody>\n",
       "</table>\n",
       "<p>120 rows × 4 columns</p>\n",
       "</div>"
      ],
      "text/plain": [
       "                                책제목      가격            출판사       출판일자\n",
       "0                   Do it! 점프 투 파이썬  16,920        이지스퍼블리싱  2019년 06월\n",
       "1                       혼자 공부하는 파이썬  19,800          한빛미디어  2022년 06월\n",
       "2            만들면서 배우는 파이썬과 40개의 작품들  16,920            앤써북  2022년 02월\n",
       "3                  혼자 공부하는 머신러닝+딥러닝  23,400          한빛미디어  2020년 12월\n",
       "4                  파이썬 for Beginner  24,250         한빛아카데미  2022년 01월\n",
       "..                              ...     ...            ...        ...\n",
       "115            데이터 분석을 위한 파이썬 철저 입문  25,200           위키북스  2019년 04월\n",
       "116           파이썬으로 만드는 OpenCV 프로젝트  32,400  인사이트(insight)  2019년 03월\n",
       "117                      파이썬 데이터 분석  28,000          생능출판사  2022년 02월\n",
       "118  COS Pro 2급 파이썬 시험 대비서(교재+모의고사)  16,200             길벗  2018년 02월\n",
       "119                       코딩 강화 파이썬  17,820            제이펍  2019년 06월\n",
       "\n",
       "[120 rows x 4 columns]"
      ]
     },
     "execution_count": 159,
     "metadata": {},
     "output_type": "execute_result"
    }
   ],
   "source": [
    "total_yes24"
   ]
  },
  {
   "cell_type": "code",
   "execution_count": 161,
   "metadata": {},
   "outputs": [],
   "source": [
    "# 엑셀로 저장\n",
    "total_yes24.to_excel('yes24.xlsx')"
   ]
  },
  {
   "cell_type": "markdown",
   "metadata": {},
   "source": [
    "# 2. 교보문고"
   ]
  },
  {
   "cell_type": "code",
   "execution_count": 135,
   "metadata": {},
   "outputs": [
    {
     "name": "stdout",
     "output_type": "stream",
     "text": [
      "<Response [200]>\n"
     ]
    }
   ],
   "source": [
    "# 2. 교보문고 크롤링\n",
    "kyobo = 'http://www.kyobobook.co.kr/'\n",
    "request = requests.get(kyobo)\n",
    "print(request) # <Response [200]> 정상적인 접속"
   ]
  },
  {
   "cell_type": "code",
   "execution_count": 136,
   "metadata": {},
   "outputs": [
    {
     "name": "stderr",
     "output_type": "stream",
     "text": [
      "c:\\Users\\user\\AppData\\Local\\Programs\\Python\\Python37\\lib\\site-packages\\ipykernel_launcher.py:2: DeprecationWarning: executable_path has been deprecated, please pass in a Service object\n",
      "  \n"
     ]
    }
   ],
   "source": [
    "# chromedriver로 페이지 열기\n",
    "driver = webdriver.Chrome('D:/tests/chromedriver.exe') \n",
    "driver.get(kyobo)\n",
    "time.sleep(0.5)"
   ]
  },
  {
   "cell_type": "code",
   "execution_count": 137,
   "metadata": {},
   "outputs": [],
   "source": [
    "# 검색창에 파이썬 입력\n",
    "search = driver.find_element('id', 'searchKeyword')\n",
    "search.send_keys('파이썬')\n",
    "search.send_keys(Keys.RETURN)\n",
    "time.sleep(0.5)"
   ]
  },
  {
   "cell_type": "code",
   "execution_count": 143,
   "metadata": {},
   "outputs": [
    {
     "name": "stdout",
     "output_type": "stream",
     "text": [
      "page :  1\n",
      "20 20 20\n",
      "page :  2\n",
      "20 20 20\n",
      "page :  3\n",
      "20 20 20\n",
      "page :  4\n",
      "20 20 20\n",
      "page :  5\n",
      "20 20 20\n"
     ]
    }
   ],
   "source": [
    "# 책 정보 크롤링\n",
    "total_kyobo = []\n",
    "next = True\n",
    "page = 1\n",
    "index = 0\n",
    "while next :\n",
    "# https://search.kyobobook.co.kr/web/search?vPstrKeyWord=%25ED%258C%258C%25EC%259D%25B4%25EC%258D%25AC&vPstrTab=PRODUCT&searchPcondition=1&currentPage=2&orderClick=LAG#container\n",
    "\n",
    "    # 2 ~ 5페이지로 이동시키고, 5페이지일 경우 멈추도록\n",
    "    if page == 5 : \n",
    "        next = False\n",
    "    if 2 <= page <= 5 :\n",
    "        url = 'https://search.kyobobook.co.kr/web/search?vPstrKeyWord=%25ED%258C%258C%25EC%259D%25B4%25EC%258D%25AC&vPstrTab=PRODUCT&searchPcondition=1&currentPage={}&orderClick=LAG#container'.format(page)\n",
    "        driver.get(url)\n",
    "        driver.implicitly_wait(10)\n",
    "        time.sleep(0.2)\n",
    "    print(\"page : \", page)\n",
    "\n",
    "    # bs4로 문서 정보를 가져옴\n",
    "    html = driver.page_source\n",
    "    soup = BeautifulSoup(html)\n",
    "\n",
    "    # 페이지 도서 리스트\n",
    "    book_list = soup.find('tbody', {'id' : 'search_list'})\n",
    "    # 책 제목 태그 리스트\n",
    "    book_name = book_list.select('div.title > a > strong')\n",
    "    # 가격 태그 리스트\n",
    "    book_price = book_list.select('div.sell_price > strong')\n",
    "    # 카테고리 태그 리스트\n",
    "    book_category = book_list.select('div.title > a > span.category2')\n",
    "\n",
    "\n",
    "    print(len(book_name), len(book_price), len(book_category))\n",
    "    # book_name list의 갯수만큼 반복문을 돌려 2차원 리스트의 형태로 저장\n",
    "    for i in range(len(book_name)) :\n",
    "        # 책 제목과 가격이 빈 값이 아닐 경우\n",
    "        if book_name[i].text.strip() and book_price[i].text.strip() :\n",
    "            # 책제목, 가격을 각각 저장\n",
    "            books = [book_name[i].text.strip(), book_price[i].text.strip()[:-1], book_category[i].text.strip()]\n",
    "            total_kyobo.append(books)\n",
    "            index += 1\n",
    "    page += 1\n",
    "    time.sleep(0.2)\n"
   ]
  },
  {
   "cell_type": "code",
   "execution_count": 144,
   "metadata": {},
   "outputs": [
    {
     "data": {
      "text/html": [
       "<div>\n",
       "<style scoped>\n",
       "    .dataframe tbody tr th:only-of-type {\n",
       "        vertical-align: middle;\n",
       "    }\n",
       "\n",
       "    .dataframe tbody tr th {\n",
       "        vertical-align: top;\n",
       "    }\n",
       "\n",
       "    .dataframe thead th {\n",
       "        text-align: right;\n",
       "    }\n",
       "</style>\n",
       "<table border=\"1\" class=\"dataframe\">\n",
       "  <thead>\n",
       "    <tr style=\"text-align: right;\">\n",
       "      <th></th>\n",
       "      <th>책제목</th>\n",
       "      <th>가격</th>\n",
       "      <th>카테고리</th>\n",
       "    </tr>\n",
       "  </thead>\n",
       "  <tbody>\n",
       "    <tr>\n",
       "      <th>0</th>\n",
       "      <td>혼자 공부하는 파이썬</td>\n",
       "      <td>19,800</td>\n",
       "      <td>[컴퓨터/IT]</td>\n",
       "    </tr>\n",
       "    <tr>\n",
       "      <th>1</th>\n",
       "      <td>Do it! 점프 투 파이썬</td>\n",
       "      <td>16,920</td>\n",
       "      <td>[컴퓨터/IT]</td>\n",
       "    </tr>\n",
       "    <tr>\n",
       "      <th>2</th>\n",
       "      <td>만들면서 배우는 파이썬과 40개의 작품들</td>\n",
       "      <td>16,920</td>\n",
       "      <td>[컴퓨터/IT]</td>\n",
       "    </tr>\n",
       "    <tr>\n",
       "      <th>3</th>\n",
       "      <td>파이썬 for Beginner</td>\n",
       "      <td>24,250</td>\n",
       "      <td>[컴퓨터/IT]</td>\n",
       "    </tr>\n",
       "    <tr>\n",
       "      <th>4</th>\n",
       "      <td>비전공자를 위한 이해할 수 있는 IT 지식</td>\n",
       "      <td>15,120</td>\n",
       "      <td>[컴퓨터/IT]</td>\n",
       "    </tr>\n",
       "    <tr>\n",
       "      <th>...</th>\n",
       "      <td>...</td>\n",
       "      <td>...</td>\n",
       "      <td>...</td>\n",
       "    </tr>\n",
       "    <tr>\n",
       "      <th>95</th>\n",
       "      <td>게임으로 배우는 파이썬</td>\n",
       "      <td>15,300</td>\n",
       "      <td>[컴퓨터/IT]</td>\n",
       "    </tr>\n",
       "    <tr>\n",
       "      <th>96</th>\n",
       "      <td>초등 중등 코딩교육: 왕초보를 위한 PYTHON(파이썬) 기초 [1BD+1DVD]</td>\n",
       "      <td>33,000</td>\n",
       "      <td>[교양]</td>\n",
       "    </tr>\n",
       "    <tr>\n",
       "      <th>97</th>\n",
       "      <td>고성능 파이썬</td>\n",
       "      <td>32,400</td>\n",
       "      <td>[컴퓨터/IT]</td>\n",
       "    </tr>\n",
       "    <tr>\n",
       "      <th>98</th>\n",
       "      <td>핵심만 쏙쏙 파이썬</td>\n",
       "      <td>19,000</td>\n",
       "      <td>[컴퓨터/IT]</td>\n",
       "    </tr>\n",
       "    <tr>\n",
       "      <th>99</th>\n",
       "      <td>웹 크롤링 &amp; 데이터 분석 with 파이썬</td>\n",
       "      <td>18,000</td>\n",
       "      <td>[컴퓨터/IT]</td>\n",
       "    </tr>\n",
       "  </tbody>\n",
       "</table>\n",
       "<p>100 rows × 3 columns</p>\n",
       "</div>"
      ],
      "text/plain": [
       "                                              책제목      가격      카테고리\n",
       "0                                     혼자 공부하는 파이썬  19,800  [컴퓨터/IT]\n",
       "1                                 Do it! 점프 투 파이썬  16,920  [컴퓨터/IT]\n",
       "2                          만들면서 배우는 파이썬과 40개의 작품들  16,920  [컴퓨터/IT]\n",
       "3                                파이썬 for Beginner  24,250  [컴퓨터/IT]\n",
       "4                         비전공자를 위한 이해할 수 있는 IT 지식  15,120  [컴퓨터/IT]\n",
       "..                                            ...     ...       ...\n",
       "95                                   게임으로 배우는 파이썬  15,300  [컴퓨터/IT]\n",
       "96  초등 중등 코딩교육: 왕초보를 위한 PYTHON(파이썬) 기초 [1BD+1DVD]  33,000      [교양]\n",
       "97                                        고성능 파이썬  32,400  [컴퓨터/IT]\n",
       "98                                     핵심만 쏙쏙 파이썬  19,000  [컴퓨터/IT]\n",
       "99                        웹 크롤링 & 데이터 분석 with 파이썬  18,000  [컴퓨터/IT]\n",
       "\n",
       "[100 rows x 3 columns]"
      ]
     },
     "execution_count": 144,
     "metadata": {},
     "output_type": "execute_result"
    }
   ],
   "source": [
    "# 이차원리스트를 데이터프레임으로 변환 및 컬럼 지정\n",
    "total_kyobo_columns = ['책제목', '가격', '카테고리']\n",
    "total_kyobo = pd.DataFrame(total_kyobo)\n",
    "total_kyobo.columns = total_kyobo_columns\n",
    "total_kyobo"
   ]
  },
  {
   "cell_type": "code",
   "execution_count": 148,
   "metadata": {},
   "outputs": [],
   "source": [
    "# 엑셀로 저장\n",
    "total_kyobo.to_excel('kyobo.xlsx')"
   ]
  },
  {
   "cell_type": "markdown",
   "metadata": {},
   "source": [
    "# 3. 알라딘"
   ]
  },
  {
   "cell_type": "code",
   "execution_count": 149,
   "metadata": {},
   "outputs": [
    {
     "name": "stdout",
     "output_type": "stream",
     "text": [
      "<Response [200]>\n"
     ]
    }
   ],
   "source": [
    "# 1. 알라딘 크롤링\n",
    "aladin = 'https://www.aladin.co.kr/home/welcome.aspx'\n",
    "request = requests.get(aladin) \n",
    "print(request) # <Response [200]> 정상적인 접속\n",
    "\n"
   ]
  },
  {
   "cell_type": "code",
   "execution_count": 150,
   "metadata": {},
   "outputs": [
    {
     "name": "stderr",
     "output_type": "stream",
     "text": [
      "c:\\Users\\user\\AppData\\Local\\Programs\\Python\\Python37\\lib\\site-packages\\ipykernel_launcher.py:2: DeprecationWarning: executable_path has been deprecated, please pass in a Service object\n",
      "  \n"
     ]
    }
   ],
   "source": [
    "# chromedriver로 페이지 열기\n",
    "driver = webdriver.Chrome('D:/tests/chromedriver.exe') \n",
    "driver.get(aladin)\n",
    "time.sleep(0.5)"
   ]
  },
  {
   "cell_type": "code",
   "execution_count": 151,
   "metadata": {},
   "outputs": [],
   "source": [
    "# 검색창에 파이썬 입력\n",
    "search = driver.find_element('id', 'SearchWord')\n",
    "search.send_keys('파이썬')\n",
    "search.send_keys(Keys.RETURN)\n",
    "time.sleep(0.5)"
   ]
  },
  {
   "cell_type": "code",
   "execution_count": 152,
   "metadata": {},
   "outputs": [
    {
     "name": "stdout",
     "output_type": "stream",
     "text": [
      "page :  1\n",
      "25 25 25\n",
      "page :  2\n",
      "25 25 25\n",
      "page :  3\n",
      "25 25 25\n",
      "page :  4\n",
      "25 25 25\n",
      "page :  5\n",
      "25 25 25\n"
     ]
    }
   ],
   "source": [
    "# 책 정보 크롤링\n",
    "total_aladin = []\n",
    "next = True\n",
    "page = 1\n",
    "index = 0\n",
    "while next :\n",
    "# https://www.aladin.co.kr/search/wsearchresult.aspx?SearchTarget=All&KeyWord=%ED%8C%8C%EC%9D%B4%EC%8D%AC&KeyRecentPublish=0&OutStock=0&ViewType=Detail&SortOrder=11&CustReviewCount=0&CustReviewRank=0&KeyFullWord=%ED%8C%8C%EC%9D%B4%EC%8D%AC&KeyLastWord=%ED%8C%8C%EC%9D%B4%EC%8D%AC&CategorySearch=&chkKeyTitle=&chkKeyAuthor=&chkKeyPublisher=&chkKeyISBN=&chkKeyTag=&chkKeyTOC=&chkKeySubject=&ViewRowCount=25&SuggestKeyWord=&page=2\n",
    "\n",
    "    # 2 ~ 5페이지로 이동시키고, 5페이지일 경우 멈추도록\n",
    "    if page == 5 : \n",
    "        next = False\n",
    "    if 2 <= page <= 5 :\n",
    "        url = 'https://www.aladin.co.kr/search/wsearchresult.aspx?SearchTarget=All&KeyWord=%ED%8C%8C%EC%9D%B4%EC%8D%AC&KeyRecentPublish=0&OutStock=0&ViewType=Detail&SortOrder=11&CustReviewCount=0&CustReviewRank=0&KeyFullWord=%ED%8C%8C%EC%9D%B4%EC%8D%AC&KeyLastWord=%ED%8C%8C%EC%9D%B4%EC%8D%AC&CategorySearch=&chkKeyTitle=&chkKeyAuthor=&chkKeyPublisher=&chkKeyISBN=&chkKeyTag=&chkKeyTOC=&chkKeySubject=&ViewRowCount=25&SuggestKeyWord=&page={}'.format(page)\n",
    "        driver.get(url)\n",
    "        driver.implicitly_wait(10)\n",
    "        time.sleep(0.2)\n",
    "    print(\"page : \", page)\n",
    "\n",
    "    # bs4로 문서 정보를 가져옴\n",
    "    html = driver.page_source\n",
    "    soup = BeautifulSoup(html)\n",
    "\n",
    "    # 페이지 도서 리스트\n",
    "    book_list = soup.find('div', {'id' : 'Search3_Result'})\n",
    "    # 책 제목 태그 리스트\n",
    "    book_name = book_list.select('a.bo3 > b')\n",
    "    # 가격 태그 리스트\n",
    "    book_price = book_list.select('span.ss_p2 > b > span')\n",
    "    # 세일즈포인트 태그 리스트\n",
    "    book_point = book_list.select('ul>li:last-child > b')\n",
    "\n",
    "\n",
    "    print(len(book_name), len(book_price), len(book_point))\n",
    "    # book_name list의 갯수만큼 반복문을 돌려 2차원 리스트의 형태로 저장\n",
    "    for i in range(len(book_name)) :\n",
    "        # 책 제목과 가격이 빈 값이 아닐 경우\n",
    "        if book_name[i].text.strip() and book_price[i].text.strip() :\n",
    "            # 책제목, 가격, 세일즈포인트를 각각 저장\n",
    "            books = [book_name[i].text.strip(), book_price[i].text.strip(), book_point[i].text.strip()]\n",
    "            total_aladin.append(books)\n",
    "            index += 1\n",
    "    page += 1\n",
    "    time.sleep(0.2)"
   ]
  },
  {
   "cell_type": "code",
   "execution_count": 153,
   "metadata": {},
   "outputs": [
    {
     "data": {
      "text/html": [
       "<div>\n",
       "<style scoped>\n",
       "    .dataframe tbody tr th:only-of-type {\n",
       "        vertical-align: middle;\n",
       "    }\n",
       "\n",
       "    .dataframe tbody tr th {\n",
       "        vertical-align: top;\n",
       "    }\n",
       "\n",
       "    .dataframe thead th {\n",
       "        text-align: right;\n",
       "    }\n",
       "</style>\n",
       "<table border=\"1\" class=\"dataframe\">\n",
       "  <thead>\n",
       "    <tr style=\"text-align: right;\">\n",
       "      <th></th>\n",
       "      <th>책제목</th>\n",
       "      <th>가격</th>\n",
       "      <th>세일즈포인트</th>\n",
       "    </tr>\n",
       "  </thead>\n",
       "  <tbody>\n",
       "    <tr>\n",
       "      <th>0</th>\n",
       "      <td>Do it! 점프 투 파이썬</td>\n",
       "      <td>16,920</td>\n",
       "      <td>29,692</td>\n",
       "    </tr>\n",
       "    <tr>\n",
       "      <th>1</th>\n",
       "      <td>클린 코드, 이제는 파이썬이다</td>\n",
       "      <td>27,000</td>\n",
       "      <td>1,900</td>\n",
       "    </tr>\n",
       "    <tr>\n",
       "      <th>2</th>\n",
       "      <td>이것이 취업을 위한 코딩 테스트다 with 파이썬</td>\n",
       "      <td>30,600</td>\n",
       "      <td>16,553</td>\n",
       "    </tr>\n",
       "    <tr>\n",
       "      <th>3</th>\n",
       "      <td>Do it! 알고리즘 코딩 테스트 : 파이썬 편</td>\n",
       "      <td>28,800</td>\n",
       "      <td>1,750</td>\n",
       "    </tr>\n",
       "    <tr>\n",
       "      <th>4</th>\n",
       "      <td>혼자 공부하는 파이썬</td>\n",
       "      <td>19,800</td>\n",
       "      <td>14,985</td>\n",
       "    </tr>\n",
       "    <tr>\n",
       "      <th>...</th>\n",
       "      <td>...</td>\n",
       "      <td>...</td>\n",
       "      <td>...</td>\n",
       "    </tr>\n",
       "    <tr>\n",
       "      <th>120</th>\n",
       "      <td>파이썬 GUI 프로그래밍 쿡북 3/e</td>\n",
       "      <td>31,500</td>\n",
       "      <td>1,091</td>\n",
       "    </tr>\n",
       "    <tr>\n",
       "      <th>121</th>\n",
       "      <td>파이썬으로 경험하는 빅데이터 분석과 머신러닝</td>\n",
       "      <td>27,000</td>\n",
       "      <td>1,202</td>\n",
       "    </tr>\n",
       "    <tr>\n",
       "      <th>122</th>\n",
       "      <td>김변수와 시작하는 코딩생활 with 파이썬</td>\n",
       "      <td>16,200</td>\n",
       "      <td>1,077</td>\n",
       "    </tr>\n",
       "    <tr>\n",
       "      <th>123</th>\n",
       "      <td>컴퓨팅 사고와 파이썬</td>\n",
       "      <td>24,000</td>\n",
       "      <td>1,069</td>\n",
       "    </tr>\n",
       "    <tr>\n",
       "      <th>124</th>\n",
       "      <td>데이터 과학을 위한 파이썬 머신러닝</td>\n",
       "      <td>30,000</td>\n",
       "      <td>1,067</td>\n",
       "    </tr>\n",
       "  </tbody>\n",
       "</table>\n",
       "<p>125 rows × 3 columns</p>\n",
       "</div>"
      ],
      "text/plain": [
       "                             책제목      가격  세일즈포인트\n",
       "0                Do it! 점프 투 파이썬  16,920  29,692\n",
       "1               클린 코드, 이제는 파이썬이다  27,000   1,900\n",
       "2    이것이 취업을 위한 코딩 테스트다 with 파이썬  30,600  16,553\n",
       "3     Do it! 알고리즘 코딩 테스트 : 파이썬 편  28,800   1,750\n",
       "4                    혼자 공부하는 파이썬  19,800  14,985\n",
       "..                           ...     ...     ...\n",
       "120         파이썬 GUI 프로그래밍 쿡북 3/e  31,500   1,091\n",
       "121     파이썬으로 경험하는 빅데이터 분석과 머신러닝  27,000   1,202\n",
       "122      김변수와 시작하는 코딩생활 with 파이썬  16,200   1,077\n",
       "123                  컴퓨팅 사고와 파이썬  24,000   1,069\n",
       "124          데이터 과학을 위한 파이썬 머신러닝  30,000   1,067\n",
       "\n",
       "[125 rows x 3 columns]"
      ]
     },
     "execution_count": 153,
     "metadata": {},
     "output_type": "execute_result"
    }
   ],
   "source": [
    "# 이차원리스트를 데이터프레임으로 변환 및 컬럼 지정\n",
    "total_aladin_columns = ['책제목', '가격', '세일즈포인트']\n",
    "total_aladin = pd.DataFrame(total_aladin)\n",
    "total_aladin.columns = total_aladin_columns\n",
    "total_aladin"
   ]
  },
  {
   "cell_type": "code",
   "execution_count": 154,
   "metadata": {},
   "outputs": [],
   "source": [
    "# 엑셀로 저장\n",
    "total_aladin.to_excel('aladin.xlsx')"
   ]
  }
 ],
 "metadata": {
  "kernelspec": {
   "display_name": "Python 3.7.7 64-bit",
   "language": "python",
   "name": "python3"
  },
  "language_info": {
   "codemirror_mode": {
    "name": "ipython",
    "version": 3
   },
   "file_extension": ".py",
   "mimetype": "text/x-python",
   "name": "python",
   "nbconvert_exporter": "python",
   "pygments_lexer": "ipython3",
   "version": "3.7.7"
  },
  "orig_nbformat": 4,
  "vscode": {
   "interpreter": {
    "hash": "8c2dc7f55a4afb133f9671f18548a683b80d7f864af89313bd9839ac682f147f"
   }
  }
 },
 "nbformat": 4,
 "nbformat_minor": 2
}
