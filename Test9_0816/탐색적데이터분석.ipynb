{
 "cells": [
  {
   "cell_type": "code",
   "execution_count": 23,
   "metadata": {},
   "outputs": [
    {
     "name": "stdout",
     "output_type": "stream",
     "text": [
      "1\n",
      "1\n",
      "0\n",
      "0\n",
      "1\n"
     ]
    }
   ],
   "source": [
    "#1. [문제] N개의 정수 A[1], A[2], …, A[N]이 주어져 있을 때, 이 안에 X라는 정수가 존재하는지 알아내는 프로그램을 작성하시오.\n",
    "\n",
    "#[입력] 첫째 줄에 자연수 N(1 ≤ N ≤ 100,000)이 주어진다. 다음 줄에는 N개의 정수 A[1], A[2], …, A[N]이 주어진다. 다음 줄에는 M(1 ≤ M ≤ 100,000)이 주어진다. 다음 줄에는 M개의 수들이 주어지는데, 이 수들이 A안에 존재하는지 알아내면 된다. 모든 정수의 범위는 -231 보다 크거나 같고 231보다 작다.\n",
    "\n",
    "# [출력] M개의 줄에 답을 출력한다. 존재하면 1을, 존재하지 않으면 0을 출력한다.\n",
    "\n",
    "\n",
    "#이분탐색과 정렬을 이용하지 않고, set로 만들어 탐색하는 방법.\n",
    "\n",
    "#첫째 줄에 입력할 갯수\n",
    "N = int(input(\"첫번째 줄에 입력할 수의 갯수 >>\"))\n",
    "#N개의 정수를 띄어쓰기를 간격으로 입력하면 set로 저장(탐색 시간을 줄이기 위해 set로 받음)\n",
    "num_set = set(map(int, input().split()))\t\n",
    "#두번째 줄에 입력할 갯수\n",
    "M = int(input(\"두번째 줄에 입력할 수의 갯수 >>\"))\n",
    "#M개의 정수를 띄어쓰기 간격으로 입력하면 리스트로 저장\n",
    "num_list = list(map(int, input().split()))\n",
    "\n",
    "#리스트의 각 요소별로 탐색\n",
    "for num in num_list:\n",
    "    # num이 num_set안에 있으면 1, 없으면 0을 출력\n",
    "    print(1) if num in num_set else print(0)"
   ]
  },
  {
   "cell_type": "code",
   "execution_count": 25,
   "metadata": {},
   "outputs": [
    {
     "name": "stdout",
     "output_type": "stream",
     "text": [
      "descending\n"
     ]
    }
   ],
   "source": [
    "#2.[문제] 다장조는 c d e f g a b C, 총 8개 음으로 이루어져있다. 이 문제에서 8개 음은 다음과 같이 숫자로 바꾸어 표현한다. c는 1로, d는 2로, ..., C를 8로 바꾼다.\n",
    "# 1부터 8까지 차례대로 연주한다면 ascending, 8부터 1까지 차례대로 연주한다면 descending, 둘 다 아니라면 mixed 이다.\n",
    "# 연주한 순서가 주어졌을 때, 이것이 ascending인지, descending인지, 아니면 mixed인지 판별하는 프로그램을 작성하시오.\n",
    "\n",
    "#[입력] 첫째 줄에 8개 숫자가 주어진다. 이 숫자는 문제 설명에서 설명한 음이며, 1부터 8까지 숫자가 한 번씩 등장한다.\n",
    "\n",
    "#[출력] 첫째 줄에 ascending, descending, mixed 중 하나를 출력한다.\n",
    "\n",
    "#음계를 띄어쓰기로 구분하여 정수로 변환한 후 리스트로 저장\n",
    "notes = list(map(int, input().split()))\n",
    "result = list(range(1,8+1))\n",
    "\n",
    "if notes == result: #result와 같을 때\n",
    "    print('ascending')\n",
    "elif notes == result[::-1]: #result의 역순일때\n",
    "    print('descending')\n",
    "else: # 그 외일 경우\n",
    "    print('mixed')"
   ]
  },
  {
   "cell_type": "code",
   "execution_count": 27,
   "metadata": {},
   "outputs": [
    {
     "name": "stdout",
     "output_type": "stream",
     "text": [
      "4\n",
      "5\n",
      "8\n"
     ]
    }
   ],
   "source": [
    "#3 [문제] N개의 수가 주어졌을 때, 이를 오름차순으로 정렬하는 프로그램을 작성하시오.\n",
    "# [입력] 첫째 줄에 수의 개수 N(1 ≤ N ≤ 1,000)이 주어진다. 둘째 줄부터 N개의 줄에는 수 주어진다. 이 수는 절댓값이 1,000보다 작거나 같은 정수이다. 수는 중복되지 않는다.\n",
    "# [출력] 첫째 줄부터 N개의 줄에 오름차순으로 정렬한 결과를 한 줄에 하나씩 출력한다.\n",
    "\n",
    "nums = int(input(\"입력받을 수의 갯수를 입력하세요 >>\")) \n",
    "lst = []\n",
    "\n",
    "#입력 받은 수의 갯수만큼 수를 입력받아 리스트에 추가\n",
    "for i in range(nums):\n",
    "    lst.append(int(input()))\n",
    "#리스트를 오름차순으로 정렬\n",
    "lst.sort()\n",
    "#리스트의 요소를 한줄씩 출력\n",
    "for i in range(nums):\n",
    "    print(lst[i])"
   ]
  },
  {
   "cell_type": "code",
   "execution_count": 28,
   "metadata": {},
   "outputs": [
    {
     "name": "stdout",
     "output_type": "stream",
     "text": [
      "7755544443333"
     ]
    }
   ],
   "source": [
    "#4. [문제] 배열을 정렬하는 것은 쉽다. 수가 주어지면, 그 수의 각 자리수를 내림차순으로 정렬해보자.\n",
    "\n",
    "#[입력] 첫째 줄에 정렬하려고 하는 수 N이 주어진다. N은 1,000,000,000보다 작거나 같은 자연수이다.\n",
    "\n",
    "#[출력] 첫째 줄에 자리수를 내림차순으로 정렬한 수를 출력한다.\n",
    "\n",
    "nums = input(\"정렬할 수를 입력하세요 >>\")\n",
    "# 입력받은 수를 list comprehension으로 자리수마다 슬라이싱 하여 정수로 저장\n",
    "nums = [int(n) for n in nums]\n",
    "\n",
    "# sorted로 내림차순하여 ordered_nums에 저장\n",
    "ordered_nums = sorted(nums, reverse=True)\n",
    "\n",
    "# 각 자리수를 내림차순으로 정렬하여 출력\n",
    "for n in ordered_nums : \n",
    "    print(n, end=\"\")"
   ]
  },
  {
   "cell_type": "code",
   "execution_count": 30,
   "metadata": {},
   "outputs": [
    {
     "name": "stdout",
     "output_type": "stream",
     "text": [
      "20 Sunyoung\n",
      "20 Sunyoung\n",
      "21 Dohyun\n",
      "연산시간(초) : 0.0\n"
     ]
    }
   ],
   "source": [
    "#5. [문제] 온라인 저지에 가입한 사람들의 나이와 이름이 가입한 순서대로 주어진다. 이때, 회원들을 나이가 증가하는 순으로, 나이가 같으면 먼저 가입한 사람이 앞에 오는 순서로 정렬하는 프로그램을 작성하시오.\n",
    "\n",
    "#[입력] 첫째 줄에 온라인 저지 회원의 수 N이 주어진다. (1 ≤ N ≤ 100,000) \n",
    "# 둘째 줄부터 N개의 줄에는 각 회원의 나이와 이름이 공백으로 구분되어 주어진다. 나이는 1보다 크거나 같으며, 200보다 작거나 같은 정수이고, 이름은 알파벳 대소문자로 이루어져 있고, 길이가 100보다 작거나 같은 문자열이다. 입력은 가입한 순서로 주어진다.\n",
    "\n",
    "# [출력] 첫째 줄부터 총 N개의 줄에 걸쳐 온라인 저지 회원을 나이 순, 나이가 같으면 가입한 순으로 한 줄에 한 명씩 나이와 이름을 공백으로 구분해 출력한다.\n",
    "\n",
    "#연산 속도 측정을 위해 time 모듈 import\n",
    "import time\n",
    "\n",
    "# 입력받을 회원의 수\n",
    "number = int(input(\"입력받을 회원의 수를 입력하세요 >>\"))\n",
    "# 회원의 나이와 이름을 저장할 리스트 객체 생성\n",
    "member = []\n",
    "# 입력한 number만큼 반복\n",
    "for idx in range(number):\n",
    "    #입력받은 값을 띄어쓰기로 나누고(split) 문자열로 변환한 후 리스트로 저장하여 member에 추가\n",
    "    age, name = map(str, input().split())\n",
    "    #정수로 변환한 나이와 이름을 묶어서 member에 추가\n",
    "    member.append([int(age), name])\n",
    "\n",
    "# 시간 측정 - 시작 시간\n",
    "current_time = float(time.time())\n",
    "\n",
    "# 회원의 나이와 이름이 저장된 리스트의 나이(a[0])를 우선으로 오름차순 정렬\n",
    "member.sort(key=lambda a: int(a[0]))\n",
    "\n",
    "# 이차원리스트의 형태로 저장된 나이와 이름을 공백으로 구분해 한줄 씩 출력\n",
    "for i in range(number):\n",
    "    print(member[i][0], member[i][1])\n",
    "\n",
    "end_time = float(time.time())\n",
    "#연산 시간 측정. 현재시각 - 시작시간 = 실행 시간\n",
    "print(\"연산시간(초) :\", end_time - current_time)"
   ]
  },
  {
   "cell_type": "code",
   "execution_count": 15,
   "metadata": {},
   "outputs": [
    {
     "name": "stdout",
     "output_type": "stream",
     "text": [
      "1 -1\n",
      "1 1\n",
      "2 2\n",
      "3 3\n",
      "3 4\n",
      "연산시간(초) : 0.0\n"
     ]
    }
   ],
   "source": [
    "#6. [문제] 2차원 평면 위의 점 N개가 주어진다. 좌표를 x좌표가 증가하는 순으로, x좌표가 같으면 y좌표가 증가하는 순서로 정렬한 다음 출력하는 프로그램을 작성하시오.\n",
    "\n",
    "#[입력] 첫째 줄에 점의 개수 N (1 ≤ N ≤ 100,000)이 주어진다. 둘째 줄부터 N개의 줄에는 i번점의 위치 xi와 yi가 주어진다. (-100,000 ≤ xi, yi ≤ 100,000) 좌표는 항상 정수이고, 위치가 같은 두 점은 없다.\n",
    "\n",
    "#[출력] 첫째 줄부터 N개의 줄에 점을 정렬한 결과를 출력한다.\n",
    "\n",
    "\n",
    "#연산 속도 측정을 위해 time 모듈 import\n",
    "import time\n",
    "\n",
    "# 입력받을 점의 갯수\n",
    "number = int(input(\"입력받을 좌표의 수를 입력하세요 >>\"))\n",
    "# 좌표를 저장할 리스트 객체 생성\n",
    "lst = []\n",
    "# 입력한 number만큼 반복\n",
    "for idx in range(number):\n",
    "    #입력받은 값을 띄어쓰기로 나누고(split) 정수로 변환(int)하여 앞의 값은 x, 뒤의 값은 y에 저장\n",
    "    x, y = map(int, input().split())\n",
    "    #x,y를 리스트로 묶어서 좌표 리스트에 저장\n",
    "    lst.append([x, y])\n",
    "\n",
    "# 시간 측정 - 시작 시간\n",
    "current_time = float(time.time())\n",
    "\n",
    "# 좌표가 저장된 리스트를 첫번째인자(a[0])를 우선으로 오름차순 정렬, 첫번째인자가 같으면 두번째인자(a[1])가 증가하는 순서로 정렬\n",
    "lst.sort(key=lambda a: (a[0], a[1]))\n",
    "\n",
    "# 이차원리스트의 형태로 저장된 좌표의 x값과 y값을 정렬 순서에 따라 한줄씩 출력\n",
    "for idx in range(number):\n",
    "    print(lst[idx][0], lst[idx][1])\n",
    "\n",
    "\n",
    "end_time = float(time.time())\n",
    "#연산 시간 측정. 현재시각 - 시작시간 = 실행 시간\n",
    "print(\"연산시간(초) :\", end_time - current_time)"
   ]
  }
 ],
 "metadata": {
  "kernelspec": {
   "display_name": "Python 3.7.7 64-bit",
   "language": "python",
   "name": "python3"
  },
  "language_info": {
   "codemirror_mode": {
    "name": "ipython",
    "version": 3
   },
   "file_extension": ".py",
   "mimetype": "text/x-python",
   "name": "python",
   "nbconvert_exporter": "python",
   "pygments_lexer": "ipython3",
   "version": "3.7.7"
  },
  "orig_nbformat": 4,
  "vscode": {
   "interpreter": {
    "hash": "8c2dc7f55a4afb133f9671f18548a683b80d7f864af89313bd9839ac682f147f"
   }
  }
 },
 "nbformat": 4,
 "nbformat_minor": 2
}
